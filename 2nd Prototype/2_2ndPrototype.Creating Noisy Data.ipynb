{
 "cells": [
  {
   "cell_type": "code",
   "execution_count": 1,
   "metadata": {
    "collapsed": false
   },
   "outputs": [
    {
     "data": {
      "text/plain": [
       "(14246, 19)"
      ]
     },
     "execution_count": 1,
     "metadata": {},
     "output_type": "execute_result"
    }
   ],
   "source": [
    "import pandas as pd\n",
    "import numpy as np\n",
    "import random\n",
    "from datetime import datetime\n",
    "from string import ascii_letters\n",
    "import string\n",
    "import warnings\n",
    "warnings.filterwarnings('ignore')\n",
    "\n",
    "#Loading and Reading the CSV file\n",
    "df= pd.read_csv('housing_data.csv')\n",
    "df.shape"
   ]
  },
  {
   "cell_type": "code",
   "execution_count": 3,
   "metadata": {
    "collapsed": false
   },
   "outputs": [
    {
     "data": {
      "text/plain": [
       "(4461, 19)"
      ]
     },
     "execution_count": 3,
     "metadata": {},
     "output_type": "execute_result"
    }
   ],
   "source": [
    "#Drob rows containing missing values using Pandas's DropNA method\n",
    "df.dropna(inplace=True)\n",
    "df.shape"
   ]
  },
  {
   "cell_type": "code",
   "execution_count": 4,
   "metadata": {
    "collapsed": false
   },
   "outputs": [
    {
     "data": {
      "text/plain": [
       "(100, 19)"
      ]
     },
     "execution_count": 4,
     "metadata": {},
     "output_type": "execute_result"
    }
   ],
   "source": [
    "#sampling 100 rows from dataframe randomly \n",
    "chosen_idxs = np.random.choice(4461 , replace=False , size=100)\n",
    "df1=df.iloc[chosen_idxs]\n",
    "df1.shape"
   ]
  },
  {
   "cell_type": "code",
   "execution_count": 5,
   "metadata": {
    "collapsed": false
   },
   "outputs": [],
   "source": [
    "#Convert the Date column to pandas DateTime format\n",
    "df1['Date'] = pd.to_datetime(df1['Date'])"
   ]
  },
  {
   "cell_type": "code",
   "execution_count": 6,
   "metadata": {
    "collapsed": false,
    "scrolled": false
   },
   "outputs": [
    {
     "data": {
      "text/html": [
       "<div>\n",
       "<table border=\"1\" class=\"dataframe\">\n",
       "  <thead>\n",
       "    <tr style=\"text-align: right;\">\n",
       "      <th></th>\n",
       "      <th>Date</th>\n",
       "      <th>STD_Months</th>\n",
       "    </tr>\n",
       "  </thead>\n",
       "  <tbody>\n",
       "    <tr>\n",
       "      <th>7234</th>\n",
       "      <td>2016-07-11</td>\n",
       "      <td>July</td>\n",
       "    </tr>\n",
       "    <tr>\n",
       "      <th>3326</th>\n",
       "      <td>2016-10-09</td>\n",
       "      <td>October</td>\n",
       "    </tr>\n",
       "    <tr>\n",
       "      <th>10149</th>\n",
       "      <td>2016-05-28</td>\n",
       "      <td>May</td>\n",
       "    </tr>\n",
       "    <tr>\n",
       "      <th>244</th>\n",
       "      <td>2016-10-09</td>\n",
       "      <td>October</td>\n",
       "    </tr>\n",
       "    <tr>\n",
       "      <th>4314</th>\n",
       "      <td>2016-11-19</td>\n",
       "      <td>November</td>\n",
       "    </tr>\n",
       "    <tr>\n",
       "      <th>13064</th>\n",
       "      <td>2017-08-04</td>\n",
       "      <td>August</td>\n",
       "    </tr>\n",
       "    <tr>\n",
       "      <th>7028</th>\n",
       "      <td>2016-11-27</td>\n",
       "      <td>November</td>\n",
       "    </tr>\n",
       "    <tr>\n",
       "      <th>7937</th>\n",
       "      <td>2016-11-27</td>\n",
       "      <td>November</td>\n",
       "    </tr>\n",
       "    <tr>\n",
       "      <th>4433</th>\n",
       "      <td>2016-05-14</td>\n",
       "      <td>May</td>\n",
       "    </tr>\n",
       "    <tr>\n",
       "      <th>11896</th>\n",
       "      <td>2017-02-25</td>\n",
       "      <td>February</td>\n",
       "    </tr>\n",
       "  </tbody>\n",
       "</table>\n",
       "</div>"
      ],
      "text/plain": [
       "            Date STD_Months\n",
       "7234  2016-07-11       July\n",
       "3326  2016-10-09    October\n",
       "10149 2016-05-28        May\n",
       "244   2016-10-09    October\n",
       "4314  2016-11-19   November\n",
       "13064 2017-08-04     August\n",
       "7028  2016-11-27   November\n",
       "7937  2016-11-27   November\n",
       "4433  2016-05-14        May\n",
       "11896 2017-02-25   February"
      ]
     },
     "execution_count": 6,
     "metadata": {},
     "output_type": "execute_result"
    }
   ],
   "source": [
    "#Extract the month from Date column and store in another column\n",
    "df1['STD_Months'] = df1['Date'].apply(lambda x: x.strftime(\"%B\"))\n",
    "df_test=df1[['Date' , 'STD_Months']]\n",
    "df_test.head(10)"
   ]
  },
  {
   "cell_type": "code",
   "execution_count": 7,
   "metadata": {
    "collapsed": false
   },
   "outputs": [
    {
     "data": {
      "text/html": [
       "<div>\n",
       "<table border=\"1\" class=\"dataframe\">\n",
       "  <thead>\n",
       "    <tr style=\"text-align: right;\">\n",
       "      <th></th>\n",
       "      <th>Date</th>\n",
       "      <th>STD_Months</th>\n",
       "      <th>10_Percent</th>\n",
       "    </tr>\n",
       "  </thead>\n",
       "  <tbody>\n",
       "    <tr>\n",
       "      <th>7234</th>\n",
       "      <td>2016-07-11</td>\n",
       "      <td>July</td>\n",
       "      <td>July</td>\n",
       "    </tr>\n",
       "    <tr>\n",
       "      <th>3326</th>\n",
       "      <td>2016-10-09</td>\n",
       "      <td>October</td>\n",
       "      <td>October</td>\n",
       "    </tr>\n",
       "    <tr>\n",
       "      <th>10149</th>\n",
       "      <td>2016-05-28</td>\n",
       "      <td>May</td>\n",
       "      <td>May</td>\n",
       "    </tr>\n",
       "    <tr>\n",
       "      <th>244</th>\n",
       "      <td>2016-10-09</td>\n",
       "      <td>October</td>\n",
       "      <td>October</td>\n",
       "    </tr>\n",
       "    <tr>\n",
       "      <th>4314</th>\n",
       "      <td>2016-11-19</td>\n",
       "      <td>November</td>\n",
       "      <td>November</td>\n",
       "    </tr>\n",
       "    <tr>\n",
       "      <th>13064</th>\n",
       "      <td>2017-08-04</td>\n",
       "      <td>August</td>\n",
       "      <td>August</td>\n",
       "    </tr>\n",
       "    <tr>\n",
       "      <th>7028</th>\n",
       "      <td>2016-11-27</td>\n",
       "      <td>November</td>\n",
       "      <td>November</td>\n",
       "    </tr>\n",
       "    <tr>\n",
       "      <th>7937</th>\n",
       "      <td>2016-11-27</td>\n",
       "      <td>November</td>\n",
       "      <td>November</td>\n",
       "    </tr>\n",
       "    <tr>\n",
       "      <th>4433</th>\n",
       "      <td>2016-05-14</td>\n",
       "      <td>May</td>\n",
       "      <td>May</td>\n",
       "    </tr>\n",
       "    <tr>\n",
       "      <th>11896</th>\n",
       "      <td>2017-02-25</td>\n",
       "      <td>February</td>\n",
       "      <td>February</td>\n",
       "    </tr>\n",
       "  </tbody>\n",
       "</table>\n",
       "</div>"
      ],
      "text/plain": [
       "            Date STD_Months 10_Percent\n",
       "7234  2016-07-11       July       July\n",
       "3326  2016-10-09    October    October\n",
       "10149 2016-05-28        May        May\n",
       "244   2016-10-09    October    October\n",
       "4314  2016-11-19   November   November\n",
       "13064 2017-08-04     August     August\n",
       "7028  2016-11-27   November   November\n",
       "7937  2016-11-27   November   November\n",
       "4433  2016-05-14        May        May\n",
       "11896 2017-02-25   February   February"
      ]
     },
     "execution_count": 7,
     "metadata": {},
     "output_type": "execute_result"
    }
   ],
   "source": [
    "#Creating a copy of STD_Months\n",
    "df_test['10_Percent'] = df_test['STD_Months']\n",
    "df_test.head(10)"
   ]
  },
  {
   "cell_type": "code",
   "execution_count": 8,
   "metadata": {
    "collapsed": false,
    "scrolled": false
   },
   "outputs": [
    {
     "name": "stdout",
     "output_type": "stream",
     "text": [
      "row: 8\n",
      "s: May\n",
      "indxs: [0, 1, 2, 3, 4, 5]\n",
      "sam: [2]\n",
      "row: 82\n",
      "s: AuVust\n",
      "row: 23\n",
      "s: June\n",
      "indxs: [0, 1, 2, 3, 4, 5, 6, 7, 8]\n",
      "sam: [7]\n",
      "row: 49\n",
      "s: SeptembPr\n",
      "row: 47\n",
      "s: July\n",
      "indxs: [0, 1, 2, 3, 4]\n",
      "sam: [1]\n",
      "row: 78\n",
      "s: Mqrch\n",
      "indxs: [0, 1, 2, 3, 4]\n",
      "sam: [0]\n",
      "row: 11\n",
      "s: Jpril\n",
      "row: 22\n",
      "s: June\n",
      "indxs: [0, 1, 2, 3, 4]\n",
      "sam: [2]\n",
      "row: 56\n",
      "s: Madch\n",
      "indxs: [0, 1, 2, 3, 4, 5, 6, 7]\n",
      "sam: [4]\n",
      "row: 77\n",
      "s: FebrEary\n"
     ]
    },
    {
     "data": {
      "text/html": [
       "<div>\n",
       "<table border=\"1\" class=\"dataframe\">\n",
       "  <thead>\n",
       "    <tr style=\"text-align: right;\">\n",
       "      <th></th>\n",
       "      <th>Date</th>\n",
       "      <th>STD_Months</th>\n",
       "      <th>10_Percent</th>\n",
       "    </tr>\n",
       "  </thead>\n",
       "  <tbody>\n",
       "    <tr>\n",
       "      <th>7234</th>\n",
       "      <td>2016-07-11</td>\n",
       "      <td>July</td>\n",
       "      <td>July</td>\n",
       "    </tr>\n",
       "    <tr>\n",
       "      <th>3326</th>\n",
       "      <td>2016-10-09</td>\n",
       "      <td>October</td>\n",
       "      <td>October</td>\n",
       "    </tr>\n",
       "    <tr>\n",
       "      <th>10149</th>\n",
       "      <td>2016-05-28</td>\n",
       "      <td>May</td>\n",
       "      <td>May</td>\n",
       "    </tr>\n",
       "    <tr>\n",
       "      <th>244</th>\n",
       "      <td>2016-10-09</td>\n",
       "      <td>October</td>\n",
       "      <td>October</td>\n",
       "    </tr>\n",
       "    <tr>\n",
       "      <th>4314</th>\n",
       "      <td>2016-11-19</td>\n",
       "      <td>November</td>\n",
       "      <td>November</td>\n",
       "    </tr>\n",
       "    <tr>\n",
       "      <th>13064</th>\n",
       "      <td>2017-08-04</td>\n",
       "      <td>August</td>\n",
       "      <td>August</td>\n",
       "    </tr>\n",
       "    <tr>\n",
       "      <th>7028</th>\n",
       "      <td>2016-11-27</td>\n",
       "      <td>November</td>\n",
       "      <td>November</td>\n",
       "    </tr>\n",
       "    <tr>\n",
       "      <th>7937</th>\n",
       "      <td>2016-11-27</td>\n",
       "      <td>November</td>\n",
       "      <td>November</td>\n",
       "    </tr>\n",
       "    <tr>\n",
       "      <th>4433</th>\n",
       "      <td>2016-05-14</td>\n",
       "      <td>May</td>\n",
       "      <td>May</td>\n",
       "    </tr>\n",
       "    <tr>\n",
       "      <th>11896</th>\n",
       "      <td>2017-02-25</td>\n",
       "      <td>February</td>\n",
       "      <td>February</td>\n",
       "    </tr>\n",
       "  </tbody>\n",
       "</table>\n",
       "</div>"
      ],
      "text/plain": [
       "            Date STD_Months 10_Percent\n",
       "7234  2016-07-11       July       July\n",
       "3326  2016-10-09    October    October\n",
       "10149 2016-05-28        May        May\n",
       "244   2016-10-09    October    October\n",
       "4314  2016-11-19   November   November\n",
       "13064 2017-08-04     August     August\n",
       "7028  2016-11-27   November   November\n",
       "7937  2016-11-27   November   November\n",
       "4433  2016-05-14        May        May\n",
       "11896 2017-02-25   February   February"
      ]
     },
     "execution_count": 8,
     "metadata": {},
     "output_type": "execute_result"
    }
   ],
   "source": [
    "#Creating 10% noise\n",
    "#Replacing letters with random letter\n",
    "from string import ascii_letters\n",
    "ix = [(row) for row in range(df_test['10_Percent'].shape[0])]\n",
    "#choosing 10 Rows\n",
    "for row in random.sample(ix, int(round(.1*len(ix)))):\n",
    "    indxs = [i for i , _ in enumerate(df_test['10_Percent'].iat[row])]\n",
    "    if len(indxs)>4:\n",
    "        print(\"indxs:\" ,indxs) \n",
    "        #Choose 1 random indexes\n",
    "        sam = random.sample(indxs , 1)\n",
    "        print(\"sam:\" ,sam)\n",
    "        #Choose 1 random character\n",
    "        letts =  iter(random.sample(ascii_letters, 1))\n",
    "        #make the string a list\n",
    "        lst = list(df_test['10_Percent'].iat[row])\n",
    "        for ind in sam:\n",
    "            lst[ind] = next(letts)\n",
    "        df_test['10_Percent'].iat[row]=(\"\".join(lst))\n",
    "    print(\"row:\" ,row)    \n",
    "    print(\"s:\" ,df_test['10_Percent'].iat[row])\n",
    "df_test.head(10)"
   ]
  },
  {
   "cell_type": "code",
   "execution_count": 9,
   "metadata": {
    "collapsed": true
   },
   "outputs": [],
   "source": [
    "df_test['20_Percent'] = df_test['STD_Months']"
   ]
  },
  {
   "cell_type": "code",
   "execution_count": 10,
   "metadata": {
    "collapsed": false
   },
   "outputs": [
    {
     "data": {
      "text/html": [
       "<div>\n",
       "<table border=\"1\" class=\"dataframe\">\n",
       "  <thead>\n",
       "    <tr style=\"text-align: right;\">\n",
       "      <th></th>\n",
       "      <th>Date</th>\n",
       "      <th>STD_Months</th>\n",
       "      <th>10_Percent</th>\n",
       "      <th>20_Percent</th>\n",
       "    </tr>\n",
       "  </thead>\n",
       "  <tbody>\n",
       "    <tr>\n",
       "      <th>7234</th>\n",
       "      <td>2016-07-11</td>\n",
       "      <td>July</td>\n",
       "      <td>July</td>\n",
       "      <td>July</td>\n",
       "    </tr>\n",
       "    <tr>\n",
       "      <th>3326</th>\n",
       "      <td>2016-10-09</td>\n",
       "      <td>October</td>\n",
       "      <td>October</td>\n",
       "      <td>OHtober</td>\n",
       "    </tr>\n",
       "    <tr>\n",
       "      <th>10149</th>\n",
       "      <td>2016-05-28</td>\n",
       "      <td>May</td>\n",
       "      <td>May</td>\n",
       "      <td>Mak</td>\n",
       "    </tr>\n",
       "    <tr>\n",
       "      <th>244</th>\n",
       "      <td>2016-10-09</td>\n",
       "      <td>October</td>\n",
       "      <td>October</td>\n",
       "      <td>October</td>\n",
       "    </tr>\n",
       "    <tr>\n",
       "      <th>4314</th>\n",
       "      <td>2016-11-19</td>\n",
       "      <td>November</td>\n",
       "      <td>November</td>\n",
       "      <td>November</td>\n",
       "    </tr>\n",
       "    <tr>\n",
       "      <th>13064</th>\n",
       "      <td>2017-08-04</td>\n",
       "      <td>August</td>\n",
       "      <td>August</td>\n",
       "      <td>AuguDt</td>\n",
       "    </tr>\n",
       "    <tr>\n",
       "      <th>7028</th>\n",
       "      <td>2016-11-27</td>\n",
       "      <td>November</td>\n",
       "      <td>November</td>\n",
       "      <td>November</td>\n",
       "    </tr>\n",
       "    <tr>\n",
       "      <th>7937</th>\n",
       "      <td>2016-11-27</td>\n",
       "      <td>November</td>\n",
       "      <td>November</td>\n",
       "      <td>November</td>\n",
       "    </tr>\n",
       "    <tr>\n",
       "      <th>4433</th>\n",
       "      <td>2016-05-14</td>\n",
       "      <td>May</td>\n",
       "      <td>May</td>\n",
       "      <td>May</td>\n",
       "    </tr>\n",
       "    <tr>\n",
       "      <th>11896</th>\n",
       "      <td>2017-02-25</td>\n",
       "      <td>February</td>\n",
       "      <td>February</td>\n",
       "      <td>February</td>\n",
       "    </tr>\n",
       "  </tbody>\n",
       "</table>\n",
       "</div>"
      ],
      "text/plain": [
       "            Date STD_Months 10_Percent 20_Percent\n",
       "7234  2016-07-11       July       July       July\n",
       "3326  2016-10-09    October    October    OHtober\n",
       "10149 2016-05-28        May        May        Mak\n",
       "244   2016-10-09    October    October    October\n",
       "4314  2016-11-19   November   November   November\n",
       "13064 2017-08-04     August     August     AuguDt\n",
       "7028  2016-11-27   November   November   November\n",
       "7937  2016-11-27   November   November   November\n",
       "4433  2016-05-14        May        May        May\n",
       "11896 2017-02-25   February   February   February"
      ]
     },
     "execution_count": 10,
     "metadata": {},
     "output_type": "execute_result"
    }
   ],
   "source": [
    "#Creating 20% noise\n",
    "ix2 = [(row) for row in range(df_test['20_Percent'].shape[0])]\n",
    "#choosing 20 Rows\n",
    "for row in random.sample(ix2, int(round(.2*len(ix2)))):\n",
    "    indxs2 = [i for i , _ in enumerate(df_test['20_Percent'].iat[row])]\n",
    "    if len(indxs2)<8:\n",
    "        #Choose 1 random indexes\n",
    "        sam2 = random.sample(indxs2 , 1)\n",
    "        #Choose 1 random character\n",
    "        letts2 =  iter(random.sample(ascii_letters, 1))\n",
    "        #make the string a list\n",
    "        lst2 = list(df_test['20_Percent'].iat[row])\n",
    "        for ind2 in sam2:\n",
    "            lst2[ind2] = next(letts2)\n",
    "        df_test['20_Percent'].iat[row]=(\"\".join(lst2))\n",
    "    else: \n",
    "        #Choose 2 random indexes\n",
    "        sam2 = random.sample(indxs2 , 2)\n",
    "        #Choose 1 random character\n",
    "        letts2 =  iter(random.sample(ascii_letters, 2))\n",
    "        #make the string a list\n",
    "        lst2 = list(df_test['20_Percent'].iat[row])\n",
    "        for ind2 in sam2:\n",
    "            lst2[ind2] = next(letts2)\n",
    "        df_test['20_Percent'].iat[row]=(\"\".join(lst2))\n",
    "df_test.head(10)         "
   ]
  },
  {
   "cell_type": "code",
   "execution_count": 10,
   "metadata": {
    "collapsed": false
   },
   "outputs": [],
   "source": [
    "df_test['30_Percent'] = df_test['STD_Months']"
   ]
  },
  {
   "cell_type": "code",
   "execution_count": 11,
   "metadata": {
    "collapsed": false,
    "scrolled": false
   },
   "outputs": [],
   "source": [
    "#Creating 30% noise\n",
    "p3 = 0.3\n",
    "ix3 = [(row) for row in range(df_test['30_Percent'].shape[0])]\n",
    "#choosing 30 Rows\n",
    "for row in random.sample(ix3, int(round(.3*len(ix3)))):\n",
    "    indxs3 = [i for i , _ in enumerate(df_test['30_Percent'].iat[row])]\n",
    "    length3 = len(indxs3)\n",
    "    positions3 = random.sample(range(length3) , round(length3*p3))\n",
    "    lst3 = list(df_test['30_Percent'].iat[row])\n",
    "    for ind3 in positions3:\n",
    "        lst3[ind3]=random.choice(string.ascii_lowercase)\n",
    "        df_test['30_Percent'].iat[row]=(\"\".join(lst3)) "
   ]
  },
  {
   "cell_type": "code",
   "execution_count": 12,
   "metadata": {
    "collapsed": true
   },
   "outputs": [],
   "source": [
    "df_test['40_Percent'] = df_test['STD_Months']"
   ]
  },
  {
   "cell_type": "code",
   "execution_count": 13,
   "metadata": {
    "collapsed": false
   },
   "outputs": [],
   "source": [
    "#Creating 40% noise\n",
    "p4 = 0.4\n",
    "ix4 = [(row) for row in range(df_test['40_Percent'].shape[0])]\n",
    "#choosing 40 Rows\n",
    "for row in random.sample(ix4, int(round(.4*len(ix4)))):\n",
    "    indxs4 = [i for i , _ in enumerate(df_test['40_Percent'].iat[row])]\n",
    "    length4 = len(indxs4)\n",
    "    positions4 = random.sample(range(length4) , round(length4*p4))\n",
    "    lst4 = list(df_test['40_Percent'].iat[row])\n",
    "    for ind4 in positions4:\n",
    "        lst4[ind4]=random.choice(string.ascii_lowercase)\n",
    "        df_test['40_Percent'].iat[row]=(\"\".join(lst4)) "
   ]
  },
  {
   "cell_type": "code",
   "execution_count": 14,
   "metadata": {
    "collapsed": true
   },
   "outputs": [],
   "source": [
    "df_test['50_Percent'] = df_test['STD_Months']"
   ]
  },
  {
   "cell_type": "code",
   "execution_count": 15,
   "metadata": {
    "collapsed": false
   },
   "outputs": [],
   "source": [
    "#Creating 50% noise\n",
    "p5 = 0.5\n",
    "ix5 = [(row) for row in range(df_test['50_Percent'].shape[0])]\n",
    "#choosing 50 Rows\n",
    "for row in random.sample(ix5, int(round(.5*len(ix5)))):\n",
    "    indxs5 = [i for i , _ in enumerate(df_test['50_Percent'].iat[row])]\n",
    "    length5 = len(indxs5)\n",
    "    positions5 = random.sample(range(length5) , round(length5*p5))\n",
    "    lst5 = list(df_test['50_Percent'].iat[row])\n",
    "    for ind5 in positions5:\n",
    "        lst5[ind5]=random.choice(string.ascii_lowercase)\n",
    "        df_test['50_Percent'].iat[row]=(\"\".join(lst5))    "
   ]
  },
  {
   "cell_type": "code",
   "execution_count": 16,
   "metadata": {
    "collapsed": true
   },
   "outputs": [],
   "source": [
    "df_test['60_Percent'] = df_test['STD_Months']"
   ]
  },
  {
   "cell_type": "code",
   "execution_count": 17,
   "metadata": {
    "collapsed": false
   },
   "outputs": [],
   "source": [
    "#Creating 60% noise\n",
    "p6 = 0.6\n",
    "ix6 = [(row) for row in range(df_test['60_Percent'].shape[0])]\n",
    "#choosing 60 Rows\n",
    "for row in random.sample(ix6, int(round(.6*len(ix6)))):\n",
    "    indxs6 = [i for i , _ in enumerate(df_test['60_Percent'].iat[row])]\n",
    "    length6 = len(indxs6)\n",
    "    positions6 = random.sample(range(length6) , round(length6*p6))\n",
    "    lst6 = list(df_test['60_Percent'].iat[row])\n",
    "    for ind6 in positions6:\n",
    "        lst6[ind6]=random.choice(string.ascii_lowercase)\n",
    "        df_test['60_Percent'].iat[row]=(\"\".join(lst6))"
   ]
  },
  {
   "cell_type": "code",
   "execution_count": 18,
   "metadata": {
    "collapsed": true
   },
   "outputs": [],
   "source": [
    "df_test['70_Percent'] = df_test['STD_Months']"
   ]
  },
  {
   "cell_type": "code",
   "execution_count": 19,
   "metadata": {
    "collapsed": false
   },
   "outputs": [],
   "source": [
    "#Creating 70% noise\n",
    "p7 = 0.7\n",
    "ix7 = [(row) for row in range(df_test['70_Percent'].shape[0])]\n",
    "#choosing 70 Rows\n",
    "for row in random.sample(ix7, int(round(.7*len(ix7)))):\n",
    "    indxs7 = [i for i , _ in enumerate(df_test['70_Percent'].iat[row])]\n",
    "    length7 = len(indxs7)\n",
    "    positions7 = random.sample(range(length7) , round(length7*p7))\n",
    "    lst7 = list(df_test['70_Percent'].iat[row])\n",
    "    for ind7 in positions7:\n",
    "        lst7[ind7]=random.choice(string.ascii_lowercase)\n",
    "        df_test['70_Percent'].iat[row]=(\"\".join(lst7))"
   ]
  },
  {
   "cell_type": "code",
   "execution_count": 20,
   "metadata": {
    "collapsed": true
   },
   "outputs": [],
   "source": [
    "df_test['80_Percent'] = df_test['STD_Months']"
   ]
  },
  {
   "cell_type": "code",
   "execution_count": 21,
   "metadata": {
    "collapsed": true
   },
   "outputs": [],
   "source": [
    "#Creating 80% noise\n",
    "p8 = 0.8\n",
    "ix8 = [(row) for row in range(df_test['80_Percent'].shape[0])]\n",
    "#choosing 80 Rows\n",
    "for row in random.sample(ix8, int(round(.8*len(ix8)))):\n",
    "    indxs8 = [i for i , _ in enumerate(df_test['80_Percent'].iat[row])]\n",
    "    length8 = len(indxs8)\n",
    "    positions8 = random.sample(range(length8) , round(length8*p8))\n",
    "    lst8 = list(df_test['80_Percent'].iat[row])\n",
    "    for ind8 in positions8:\n",
    "        lst8[ind8]=random.choice(string.ascii_lowercase)\n",
    "        df_test['80_Percent'].iat[row]=(\"\".join(lst8))"
   ]
  },
  {
   "cell_type": "code",
   "execution_count": 22,
   "metadata": {
    "collapsed": true
   },
   "outputs": [],
   "source": [
    "df_test['90_Percent'] = df_test['STD_Months']"
   ]
  },
  {
   "cell_type": "code",
   "execution_count": 23,
   "metadata": {
    "collapsed": true
   },
   "outputs": [],
   "source": [
    "#Creating 90% noise\n",
    "p9 = 0.9\n",
    "ix9 = [(row) for row in range(df_test['90_Percent'].shape[0])]\n",
    "#choosing 90 Rows\n",
    "for row in random.sample(ix9, int(round(.9*len(ix9)))):\n",
    "    indxs9 = [i for i , _ in enumerate(df_test['90_Percent'].iat[row])]\n",
    "    length9 = len(indxs9)\n",
    "    positions9 = random.sample(range(length9) , round(length9*p9))\n",
    "    lst9 = list(df_test['90_Percent'].iat[row])\n",
    "    for ind9 in positions9:\n",
    "        lst9[ind9]=random.choice(string.ascii_lowercase)\n",
    "        df_test['90_Percent'].iat[row]=(\"\".join(lst9))"
   ]
  },
  {
   "cell_type": "code",
   "execution_count": 24,
   "metadata": {
    "collapsed": true
   },
   "outputs": [],
   "source": [
    "df_test['100_Percent'] = df_test['STD_Months']"
   ]
  },
  {
   "cell_type": "code",
   "execution_count": 25,
   "metadata": {
    "collapsed": true
   },
   "outputs": [],
   "source": [
    "#Creating 100% noise\n",
    "ix10 = [(row) for row in range(df_test['100_Percent'].shape[0])]\n",
    "#choosing 100 Rows\n",
    "for row in random.sample(ix10, int(len(ix10))):\n",
    "    indxs10 = [i for i , _ in enumerate(df_test['100_Percent'].iat[row])]\n",
    "    length10 = len(indxs10)\n",
    "    positions10 = random.sample(range(length10) , length10)\n",
    "    lst10 = list(df_test['100_Percent'].iat[row])\n",
    "    for ind10 in positions10:\n",
    "        lst10[ind10]=random.choice(string.ascii_lowercase)\n",
    "        df_test['100_Percent'].iat[row]=(\"\".join(lst10))"
   ]
  },
  {
   "cell_type": "code",
   "execution_count": 27,
   "metadata": {
    "collapsed": false
   },
   "outputs": [],
   "source": [
    "#Save the result in a CSV file\n",
    "df_test\n",
    "df_test.to_csv(\"Noisy_Data.csv\")"
   ]
  }
 ],
 "metadata": {
  "kernelspec": {
   "display_name": "Python 3",
   "language": "python",
   "name": "python3"
  },
  "language_info": {
   "codemirror_mode": {
    "name": "ipython",
    "version": 3
   },
   "file_extension": ".py",
   "mimetype": "text/x-python",
   "name": "python",
   "nbconvert_exporter": "python",
   "pygments_lexer": "ipython3",
   "version": "3.6.0"
  }
 },
 "nbformat": 4,
 "nbformat_minor": 2
}
